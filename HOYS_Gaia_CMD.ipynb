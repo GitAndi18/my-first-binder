{
 "cells": [
  {
   "cell_type": "markdown",
   "metadata": {},
   "source": [
    "# Gaia colour magnitude diagram (CMD) for HOYS Targets"
   ]
  },
  {
   "cell_type": "markdown",
   "metadata": {},
   "source": [
    "Welcome to the CMD notebook for the HOYS LCO Project.\\\n",
    "Please see the video tutorial.\n",
    "\n",
    "### Notebook tips:\n",
    "* ***Shift + Enter on a code cell/block to run it and advance to the next cell.***\n",
    "* Can re-run blocks out of order as long as the variables are already there\n",
    "* If python kernal crashses or out of memory, use the reset button above to reset the kernal."
   ]
  },
  {
   "cell_type": "code",
   "execution_count": 1,
   "metadata": {
    "tags": []
   },
   "outputs": [],
   "source": [
    "import time\n",
    "import math\n",
    "from matplotlib import *\n",
    "from matplotlib.pyplot import *\n",
    "import numpy as np\n",
    "import pandas as pd\n",
    "import astropy\n",
    "from astropy.time import Time\n",
    "import astropy.units as u\n",
    "from astropy.coordinates import SkyCoord\n",
    "from astroquery.gaia import Gaia\n",
    "from astroquery.skyview import SkyView\n",
    "import numpy.ma as ma\n",
    "import os\n",
    "from ipywidgets import interact, interactive, fixed, interact_manual\n",
    "import ipywidgets as widget\n",
    "from IPython.display import display,clear_output\n"
   ]
  },
  {
   "cell_type": "code",
   "execution_count": null,
   "metadata": {},
   "outputs": [],
   "source": [
    "#for lab\n",
    "%matplotlib widget\n",
    "#for notebook/slides\n",
    "#%matplotlib notebook #for notebook/slides\n",
    "rcParams.update({'figure.max_open_warning': 50})"
   ]
  },
  {
   "cell_type": "code",
   "execution_count": 2,
   "metadata": {},
   "outputs": [
    {
     "ename": "FileNotFoundError",
     "evalue": "[Errno 2] No such file or directory: 'iso/gaia_edr3_iso_1myr.txt'",
     "output_type": "error",
     "traceback": [
      "\u001b[1;31m---------------------------------------------------------------------------\u001b[0m",
      "\u001b[1;31mFileNotFoundError\u001b[0m                         Traceback (most recent call last)",
      "Cell \u001b[1;32mIn[2], line 2\u001b[0m\n\u001b[0;32m      1\u001b[0m \u001b[38;5;66;03m#load in isochrones\u001b[39;00m\n\u001b[1;32m----> 2\u001b[0m iso_table_1myr \u001b[38;5;241m=\u001b[39m \u001b[43mpd\u001b[49m\u001b[38;5;241;43m.\u001b[39;49m\u001b[43mread_csv\u001b[49m\u001b[43m(\u001b[49m\u001b[38;5;124;43m'\u001b[39;49m\u001b[38;5;124;43miso/gaia_edr3_iso_1myr.txt\u001b[39;49m\u001b[38;5;124;43m'\u001b[39;49m\u001b[43m,\u001b[49m\u001b[43mdelim_whitespace\u001b[49m\u001b[38;5;241;43m=\u001b[39;49m\u001b[38;5;28;43;01mTrue\u001b[39;49;00m\u001b[43m,\u001b[49m\u001b[43mindex_col\u001b[49m\u001b[38;5;241;43m=\u001b[39;49m\u001b[38;5;28;43;01mFalse\u001b[39;49;00m\u001b[43m,\u001b[49m\u001b[43mcomment\u001b[49m\u001b[38;5;241;43m=\u001b[39;49m\u001b[38;5;124;43m'\u001b[39;49m\u001b[38;5;124;43m#\u001b[39;49m\u001b[38;5;124;43m'\u001b[39;49m\u001b[43m,\u001b[49m\u001b[43mskip_blank_lines\u001b[49m\u001b[38;5;241;43m=\u001b[39;49m\u001b[38;5;28;43;01mTrue\u001b[39;49;00m\u001b[43m)\u001b[49m\n\u001b[0;32m      3\u001b[0m iso_table_2myr \u001b[38;5;241m=\u001b[39m pd\u001b[38;5;241m.\u001b[39mread_csv(\u001b[38;5;124m'\u001b[39m\u001b[38;5;124miso/gaia_edr3_iso_2myr.txt\u001b[39m\u001b[38;5;124m'\u001b[39m,delim_whitespace\u001b[38;5;241m=\u001b[39m\u001b[38;5;28;01mTrue\u001b[39;00m,index_col\u001b[38;5;241m=\u001b[39m\u001b[38;5;28;01mFalse\u001b[39;00m,comment\u001b[38;5;241m=\u001b[39m\u001b[38;5;124m'\u001b[39m\u001b[38;5;124m#\u001b[39m\u001b[38;5;124m'\u001b[39m,skip_blank_lines\u001b[38;5;241m=\u001b[39m\u001b[38;5;28;01mTrue\u001b[39;00m)\n\u001b[0;32m      4\u001b[0m iso_table_3myr \u001b[38;5;241m=\u001b[39m pd\u001b[38;5;241m.\u001b[39mread_csv(\u001b[38;5;124m'\u001b[39m\u001b[38;5;124miso/gaia_edr3_iso_3myr.txt\u001b[39m\u001b[38;5;124m'\u001b[39m,delim_whitespace\u001b[38;5;241m=\u001b[39m\u001b[38;5;28;01mTrue\u001b[39;00m,index_col\u001b[38;5;241m=\u001b[39m\u001b[38;5;28;01mFalse\u001b[39;00m,comment\u001b[38;5;241m=\u001b[39m\u001b[38;5;124m'\u001b[39m\u001b[38;5;124m#\u001b[39m\u001b[38;5;124m'\u001b[39m,skip_blank_lines\u001b[38;5;241m=\u001b[39m\u001b[38;5;28;01mTrue\u001b[39;00m)\n",
      "File \u001b[1;32m~\\anaconda3\\envs\\photutils_Jan23\\lib\\site-packages\\pandas\\util\\_decorators.py:311\u001b[0m, in \u001b[0;36mdeprecate_nonkeyword_arguments.<locals>.decorate.<locals>.wrapper\u001b[1;34m(*args, **kwargs)\u001b[0m\n\u001b[0;32m    305\u001b[0m \u001b[38;5;28;01mif\u001b[39;00m \u001b[38;5;28mlen\u001b[39m(args) \u001b[38;5;241m>\u001b[39m num_allow_args:\n\u001b[0;32m    306\u001b[0m     warnings\u001b[38;5;241m.\u001b[39mwarn(\n\u001b[0;32m    307\u001b[0m         msg\u001b[38;5;241m.\u001b[39mformat(arguments\u001b[38;5;241m=\u001b[39marguments),\n\u001b[0;32m    308\u001b[0m         \u001b[38;5;167;01mFutureWarning\u001b[39;00m,\n\u001b[0;32m    309\u001b[0m         stacklevel\u001b[38;5;241m=\u001b[39mstacklevel,\n\u001b[0;32m    310\u001b[0m     )\n\u001b[1;32m--> 311\u001b[0m \u001b[38;5;28;01mreturn\u001b[39;00m func(\u001b[38;5;241m*\u001b[39margs, \u001b[38;5;241m*\u001b[39m\u001b[38;5;241m*\u001b[39mkwargs)\n",
      "File \u001b[1;32m~\\anaconda3\\envs\\photutils_Jan23\\lib\\site-packages\\pandas\\io\\parsers\\readers.py:680\u001b[0m, in \u001b[0;36mread_csv\u001b[1;34m(filepath_or_buffer, sep, delimiter, header, names, index_col, usecols, squeeze, prefix, mangle_dupe_cols, dtype, engine, converters, true_values, false_values, skipinitialspace, skiprows, skipfooter, nrows, na_values, keep_default_na, na_filter, verbose, skip_blank_lines, parse_dates, infer_datetime_format, keep_date_col, date_parser, dayfirst, cache_dates, iterator, chunksize, compression, thousands, decimal, lineterminator, quotechar, quoting, doublequote, escapechar, comment, encoding, encoding_errors, dialect, error_bad_lines, warn_bad_lines, on_bad_lines, delim_whitespace, low_memory, memory_map, float_precision, storage_options)\u001b[0m\n\u001b[0;32m    665\u001b[0m kwds_defaults \u001b[38;5;241m=\u001b[39m _refine_defaults_read(\n\u001b[0;32m    666\u001b[0m     dialect,\n\u001b[0;32m    667\u001b[0m     delimiter,\n\u001b[1;32m   (...)\u001b[0m\n\u001b[0;32m    676\u001b[0m     defaults\u001b[38;5;241m=\u001b[39m{\u001b[38;5;124m\"\u001b[39m\u001b[38;5;124mdelimiter\u001b[39m\u001b[38;5;124m\"\u001b[39m: \u001b[38;5;124m\"\u001b[39m\u001b[38;5;124m,\u001b[39m\u001b[38;5;124m\"\u001b[39m},\n\u001b[0;32m    677\u001b[0m )\n\u001b[0;32m    678\u001b[0m kwds\u001b[38;5;241m.\u001b[39mupdate(kwds_defaults)\n\u001b[1;32m--> 680\u001b[0m \u001b[38;5;28;01mreturn\u001b[39;00m \u001b[43m_read\u001b[49m\u001b[43m(\u001b[49m\u001b[43mfilepath_or_buffer\u001b[49m\u001b[43m,\u001b[49m\u001b[43m \u001b[49m\u001b[43mkwds\u001b[49m\u001b[43m)\u001b[49m\n",
      "File \u001b[1;32m~\\anaconda3\\envs\\photutils_Jan23\\lib\\site-packages\\pandas\\io\\parsers\\readers.py:575\u001b[0m, in \u001b[0;36m_read\u001b[1;34m(filepath_or_buffer, kwds)\u001b[0m\n\u001b[0;32m    572\u001b[0m _validate_names(kwds\u001b[38;5;241m.\u001b[39mget(\u001b[38;5;124m\"\u001b[39m\u001b[38;5;124mnames\u001b[39m\u001b[38;5;124m\"\u001b[39m, \u001b[38;5;28;01mNone\u001b[39;00m))\n\u001b[0;32m    574\u001b[0m \u001b[38;5;66;03m# Create the parser.\u001b[39;00m\n\u001b[1;32m--> 575\u001b[0m parser \u001b[38;5;241m=\u001b[39m TextFileReader(filepath_or_buffer, \u001b[38;5;241m*\u001b[39m\u001b[38;5;241m*\u001b[39mkwds)\n\u001b[0;32m    577\u001b[0m \u001b[38;5;28;01mif\u001b[39;00m chunksize \u001b[38;5;129;01mor\u001b[39;00m iterator:\n\u001b[0;32m    578\u001b[0m     \u001b[38;5;28;01mreturn\u001b[39;00m parser\n",
      "File \u001b[1;32m~\\anaconda3\\envs\\photutils_Jan23\\lib\\site-packages\\pandas\\io\\parsers\\readers.py:933\u001b[0m, in \u001b[0;36mTextFileReader.__init__\u001b[1;34m(self, f, engine, **kwds)\u001b[0m\n\u001b[0;32m    930\u001b[0m     \u001b[38;5;28mself\u001b[39m\u001b[38;5;241m.\u001b[39moptions[\u001b[38;5;124m\"\u001b[39m\u001b[38;5;124mhas_index_names\u001b[39m\u001b[38;5;124m\"\u001b[39m] \u001b[38;5;241m=\u001b[39m kwds[\u001b[38;5;124m\"\u001b[39m\u001b[38;5;124mhas_index_names\u001b[39m\u001b[38;5;124m\"\u001b[39m]\n\u001b[0;32m    932\u001b[0m \u001b[38;5;28mself\u001b[39m\u001b[38;5;241m.\u001b[39mhandles: IOHandles \u001b[38;5;241m|\u001b[39m \u001b[38;5;28;01mNone\u001b[39;00m \u001b[38;5;241m=\u001b[39m \u001b[38;5;28;01mNone\u001b[39;00m\n\u001b[1;32m--> 933\u001b[0m \u001b[38;5;28mself\u001b[39m\u001b[38;5;241m.\u001b[39m_engine \u001b[38;5;241m=\u001b[39m \u001b[38;5;28;43mself\u001b[39;49m\u001b[38;5;241;43m.\u001b[39;49m\u001b[43m_make_engine\u001b[49m\u001b[43m(\u001b[49m\u001b[43mf\u001b[49m\u001b[43m,\u001b[49m\u001b[43m \u001b[49m\u001b[38;5;28;43mself\u001b[39;49m\u001b[38;5;241;43m.\u001b[39;49m\u001b[43mengine\u001b[49m\u001b[43m)\u001b[49m\n",
      "File \u001b[1;32m~\\anaconda3\\envs\\photutils_Jan23\\lib\\site-packages\\pandas\\io\\parsers\\readers.py:1217\u001b[0m, in \u001b[0;36mTextFileReader._make_engine\u001b[1;34m(self, f, engine)\u001b[0m\n\u001b[0;32m   1213\u001b[0m     mode \u001b[38;5;241m=\u001b[39m \u001b[38;5;124m\"\u001b[39m\u001b[38;5;124mrb\u001b[39m\u001b[38;5;124m\"\u001b[39m\n\u001b[0;32m   1214\u001b[0m \u001b[38;5;66;03m# error: No overload variant of \"get_handle\" matches argument types\u001b[39;00m\n\u001b[0;32m   1215\u001b[0m \u001b[38;5;66;03m# \"Union[str, PathLike[str], ReadCsvBuffer[bytes], ReadCsvBuffer[str]]\"\u001b[39;00m\n\u001b[0;32m   1216\u001b[0m \u001b[38;5;66;03m# , \"str\", \"bool\", \"Any\", \"Any\", \"Any\", \"Any\", \"Any\"\u001b[39;00m\n\u001b[1;32m-> 1217\u001b[0m \u001b[38;5;28mself\u001b[39m\u001b[38;5;241m.\u001b[39mhandles \u001b[38;5;241m=\u001b[39m \u001b[43mget_handle\u001b[49m\u001b[43m(\u001b[49m\u001b[43m  \u001b[49m\u001b[38;5;66;43;03m# type: ignore[call-overload]\u001b[39;49;00m\n\u001b[0;32m   1218\u001b[0m \u001b[43m    \u001b[49m\u001b[43mf\u001b[49m\u001b[43m,\u001b[49m\n\u001b[0;32m   1219\u001b[0m \u001b[43m    \u001b[49m\u001b[43mmode\u001b[49m\u001b[43m,\u001b[49m\n\u001b[0;32m   1220\u001b[0m \u001b[43m    \u001b[49m\u001b[43mencoding\u001b[49m\u001b[38;5;241;43m=\u001b[39;49m\u001b[38;5;28;43mself\u001b[39;49m\u001b[38;5;241;43m.\u001b[39;49m\u001b[43moptions\u001b[49m\u001b[38;5;241;43m.\u001b[39;49m\u001b[43mget\u001b[49m\u001b[43m(\u001b[49m\u001b[38;5;124;43m\"\u001b[39;49m\u001b[38;5;124;43mencoding\u001b[39;49m\u001b[38;5;124;43m\"\u001b[39;49m\u001b[43m,\u001b[49m\u001b[43m \u001b[49m\u001b[38;5;28;43;01mNone\u001b[39;49;00m\u001b[43m)\u001b[49m\u001b[43m,\u001b[49m\n\u001b[0;32m   1221\u001b[0m \u001b[43m    \u001b[49m\u001b[43mcompression\u001b[49m\u001b[38;5;241;43m=\u001b[39;49m\u001b[38;5;28;43mself\u001b[39;49m\u001b[38;5;241;43m.\u001b[39;49m\u001b[43moptions\u001b[49m\u001b[38;5;241;43m.\u001b[39;49m\u001b[43mget\u001b[49m\u001b[43m(\u001b[49m\u001b[38;5;124;43m\"\u001b[39;49m\u001b[38;5;124;43mcompression\u001b[39;49m\u001b[38;5;124;43m\"\u001b[39;49m\u001b[43m,\u001b[49m\u001b[43m \u001b[49m\u001b[38;5;28;43;01mNone\u001b[39;49;00m\u001b[43m)\u001b[49m\u001b[43m,\u001b[49m\n\u001b[0;32m   1222\u001b[0m \u001b[43m    \u001b[49m\u001b[43mmemory_map\u001b[49m\u001b[38;5;241;43m=\u001b[39;49m\u001b[38;5;28;43mself\u001b[39;49m\u001b[38;5;241;43m.\u001b[39;49m\u001b[43moptions\u001b[49m\u001b[38;5;241;43m.\u001b[39;49m\u001b[43mget\u001b[49m\u001b[43m(\u001b[49m\u001b[38;5;124;43m\"\u001b[39;49m\u001b[38;5;124;43mmemory_map\u001b[39;49m\u001b[38;5;124;43m\"\u001b[39;49m\u001b[43m,\u001b[49m\u001b[43m \u001b[49m\u001b[38;5;28;43;01mFalse\u001b[39;49;00m\u001b[43m)\u001b[49m\u001b[43m,\u001b[49m\n\u001b[0;32m   1223\u001b[0m \u001b[43m    \u001b[49m\u001b[43mis_text\u001b[49m\u001b[38;5;241;43m=\u001b[39;49m\u001b[43mis_text\u001b[49m\u001b[43m,\u001b[49m\n\u001b[0;32m   1224\u001b[0m \u001b[43m    \u001b[49m\u001b[43merrors\u001b[49m\u001b[38;5;241;43m=\u001b[39;49m\u001b[38;5;28;43mself\u001b[39;49m\u001b[38;5;241;43m.\u001b[39;49m\u001b[43moptions\u001b[49m\u001b[38;5;241;43m.\u001b[39;49m\u001b[43mget\u001b[49m\u001b[43m(\u001b[49m\u001b[38;5;124;43m\"\u001b[39;49m\u001b[38;5;124;43mencoding_errors\u001b[39;49m\u001b[38;5;124;43m\"\u001b[39;49m\u001b[43m,\u001b[49m\u001b[43m \u001b[49m\u001b[38;5;124;43m\"\u001b[39;49m\u001b[38;5;124;43mstrict\u001b[39;49m\u001b[38;5;124;43m\"\u001b[39;49m\u001b[43m)\u001b[49m\u001b[43m,\u001b[49m\n\u001b[0;32m   1225\u001b[0m \u001b[43m    \u001b[49m\u001b[43mstorage_options\u001b[49m\u001b[38;5;241;43m=\u001b[39;49m\u001b[38;5;28;43mself\u001b[39;49m\u001b[38;5;241;43m.\u001b[39;49m\u001b[43moptions\u001b[49m\u001b[38;5;241;43m.\u001b[39;49m\u001b[43mget\u001b[49m\u001b[43m(\u001b[49m\u001b[38;5;124;43m\"\u001b[39;49m\u001b[38;5;124;43mstorage_options\u001b[39;49m\u001b[38;5;124;43m\"\u001b[39;49m\u001b[43m,\u001b[49m\u001b[43m \u001b[49m\u001b[38;5;28;43;01mNone\u001b[39;49;00m\u001b[43m)\u001b[49m\u001b[43m,\u001b[49m\n\u001b[0;32m   1226\u001b[0m \u001b[43m\u001b[49m\u001b[43m)\u001b[49m\n\u001b[0;32m   1227\u001b[0m \u001b[38;5;28;01massert\u001b[39;00m \u001b[38;5;28mself\u001b[39m\u001b[38;5;241m.\u001b[39mhandles \u001b[38;5;129;01mis\u001b[39;00m \u001b[38;5;129;01mnot\u001b[39;00m \u001b[38;5;28;01mNone\u001b[39;00m\n\u001b[0;32m   1228\u001b[0m f \u001b[38;5;241m=\u001b[39m \u001b[38;5;28mself\u001b[39m\u001b[38;5;241m.\u001b[39mhandles\u001b[38;5;241m.\u001b[39mhandle\n",
      "File \u001b[1;32m~\\anaconda3\\envs\\photutils_Jan23\\lib\\site-packages\\pandas\\io\\common.py:789\u001b[0m, in \u001b[0;36mget_handle\u001b[1;34m(path_or_buf, mode, encoding, compression, memory_map, is_text, errors, storage_options)\u001b[0m\n\u001b[0;32m    784\u001b[0m \u001b[38;5;28;01melif\u001b[39;00m \u001b[38;5;28misinstance\u001b[39m(handle, \u001b[38;5;28mstr\u001b[39m):\n\u001b[0;32m    785\u001b[0m     \u001b[38;5;66;03m# Check whether the filename is to be opened in binary mode.\u001b[39;00m\n\u001b[0;32m    786\u001b[0m     \u001b[38;5;66;03m# Binary mode does not support 'encoding' and 'newline'.\u001b[39;00m\n\u001b[0;32m    787\u001b[0m     \u001b[38;5;28;01mif\u001b[39;00m ioargs\u001b[38;5;241m.\u001b[39mencoding \u001b[38;5;129;01mand\u001b[39;00m \u001b[38;5;124m\"\u001b[39m\u001b[38;5;124mb\u001b[39m\u001b[38;5;124m\"\u001b[39m \u001b[38;5;129;01mnot\u001b[39;00m \u001b[38;5;129;01min\u001b[39;00m ioargs\u001b[38;5;241m.\u001b[39mmode:\n\u001b[0;32m    788\u001b[0m         \u001b[38;5;66;03m# Encoding\u001b[39;00m\n\u001b[1;32m--> 789\u001b[0m         handle \u001b[38;5;241m=\u001b[39m \u001b[38;5;28;43mopen\u001b[39;49m\u001b[43m(\u001b[49m\n\u001b[0;32m    790\u001b[0m \u001b[43m            \u001b[49m\u001b[43mhandle\u001b[49m\u001b[43m,\u001b[49m\n\u001b[0;32m    791\u001b[0m \u001b[43m            \u001b[49m\u001b[43mioargs\u001b[49m\u001b[38;5;241;43m.\u001b[39;49m\u001b[43mmode\u001b[49m\u001b[43m,\u001b[49m\n\u001b[0;32m    792\u001b[0m \u001b[43m            \u001b[49m\u001b[43mencoding\u001b[49m\u001b[38;5;241;43m=\u001b[39;49m\u001b[43mioargs\u001b[49m\u001b[38;5;241;43m.\u001b[39;49m\u001b[43mencoding\u001b[49m\u001b[43m,\u001b[49m\n\u001b[0;32m    793\u001b[0m \u001b[43m            \u001b[49m\u001b[43merrors\u001b[49m\u001b[38;5;241;43m=\u001b[39;49m\u001b[43merrors\u001b[49m\u001b[43m,\u001b[49m\n\u001b[0;32m    794\u001b[0m \u001b[43m            \u001b[49m\u001b[43mnewline\u001b[49m\u001b[38;5;241;43m=\u001b[39;49m\u001b[38;5;124;43m\"\u001b[39;49m\u001b[38;5;124;43m\"\u001b[39;49m\u001b[43m,\u001b[49m\n\u001b[0;32m    795\u001b[0m \u001b[43m        \u001b[49m\u001b[43m)\u001b[49m\n\u001b[0;32m    796\u001b[0m     \u001b[38;5;28;01melse\u001b[39;00m:\n\u001b[0;32m    797\u001b[0m         \u001b[38;5;66;03m# Binary mode\u001b[39;00m\n\u001b[0;32m    798\u001b[0m         handle \u001b[38;5;241m=\u001b[39m \u001b[38;5;28mopen\u001b[39m(handle, ioargs\u001b[38;5;241m.\u001b[39mmode)\n",
      "\u001b[1;31mFileNotFoundError\u001b[0m: [Errno 2] No such file or directory: 'iso/gaia_edr3_iso_1myr.txt'"
     ]
    }
   ],
   "source": [
    "#load in isochrones\n",
    "iso_table_1myr = pd.read_csv('iso/gaia_edr3_iso_1myr.txt',delim_whitespace=True,index_col=False,comment='#',skip_blank_lines=True)\n",
    "iso_table_2myr = pd.read_csv('iso/gaia_edr3_iso_2myr.txt',delim_whitespace=True,index_col=False,comment='#',skip_blank_lines=True)\n",
    "iso_table_3myr = pd.read_csv('iso/gaia_edr3_iso_3myr.txt',delim_whitespace=True,index_col=False,comment='#',skip_blank_lines=True)\n",
    "iso_table_4myr = pd.read_csv('iso/gaia_edr3_iso_4myr.txt',delim_whitespace=True,index_col=False,comment='#',skip_blank_lines=True)\n",
    "iso_table_5myr = pd.read_csv('iso/gaia_edr3_iso_5myr.txt',delim_whitespace=True,index_col=False,comment='#',skip_blank_lines=True)\n",
    "iso_table_6myr = pd.read_csv('iso/gaia_edr3_iso_6myr.txt',delim_whitespace=True,index_col=False,comment='#',skip_blank_lines=True)\n",
    "iso_table_7myr = pd.read_csv('iso/gaia_edr3_iso_7myr.txt',delim_whitespace=True,index_col=False,comment='#',skip_blank_lines=True)\n",
    "iso_table_8myr = pd.read_csv('iso/gaia_edr3_iso_8myr.txt',delim_whitespace=True,index_col=False,comment='#',skip_blank_lines=True)\n",
    "iso_table_9myr = pd.read_csv('iso/gaia_edr3_iso_9myr.txt',delim_whitespace=True,index_col=False,comment='#',skip_blank_lines=True)\n",
    "iso_table_10myr = pd.read_csv('iso/gaia_edr3_iso_10myr.txt',delim_whitespace=True,index_col=False,comment='#',skip_blank_lines=True)\n",
    "iso_table_20myr = pd.read_csv('iso/gaia_edr3_iso_20myr.txt',delim_whitespace=True,index_col=False,comment='#',skip_blank_lines=True)\n",
    "iso_table_100myr = pd.read_csv('iso/gaia_edr3_iso_100myr.txt',delim_whitespace=True,index_col=False,comment='#',skip_blank_lines=True)\n",
    "iso_table_1gyr = pd.read_csv('iso/gaia_edr3_iso_1gyr.txt',delim_whitespace=True,index_col=False,comment='#',skip_blank_lines=True)\n",
    "iso_table_1gyr=iso_table_1gyr.query('Gmag >-2')\n",
    "iso_list={'1gyr':iso_table_1gyr,'100myr':iso_table_100myr,'20myr':iso_table_20myr,'10myr':iso_table_10myr,'9myr':iso_table_9myr,'8myr':iso_table_8myr,\n",
    "          '7myr':iso_table_7myr,'6myr':iso_table_6myr,'5myr':iso_table_5myr,'4myr':iso_table_4myr,'3myr':iso_table_3myr,'2myr':iso_table_2myr,'1myr':iso_table_1myr}"
   ]
  },
  {
   "cell_type": "code",
   "execution_count": 3,
   "metadata": {},
   "outputs": [],
   "source": [
    "import ssl\n",
    "ssl._create_default_https_context = ssl._create_unverified_context"
   ]
  },
  {
   "cell_type": "code",
   "execution_count": 4,
   "metadata": {},
   "outputs": [
    {
     "data": {
      "application/vnd.jupyter.widget-view+json": {
       "model_id": "dad2b529a8bd40b3badf09e12df944c9",
       "version_major": 2,
       "version_minor": 0
      },
      "text/plain": [
       "Dropdown(description='Target:', options=(('NGC 1333', '03 29 02 +31 20 54'), ('IC 348', '03 44 34 +32 09 48'),…"
      ]
     },
     "metadata": {},
     "output_type": "display_data"
    }
   ],
   "source": [
    "#select HOYS target\n",
    "target_sel=widget.Dropdown(\n",
    "    options=[('NGC 1333', '03 29 02 +31 20 54'), \n",
    "             ('IC 348', '03 44 34 +32 09 48'), \n",
    "             ('Lambda – Ori Cluster','05 35 06 +09 56 00'),\n",
    "             ('M42','05 35 17 -05 23 28'), \n",
    "             ('L 1641 N Cluster','05 36 19 -06 22 12'), \n",
    "             ('Sigma – Ori Cluster','05 38 45 -02 36 00'), \n",
    "             ('NGC 2068','05 46 46 +00 04 12'), \n",
    "             ('NGC 2244','06 31 55 +04 56 30'),\n",
    "             ('NGC 2264','06 40 58 +09 53 42'),\n",
    "             ('MWSC 3274','20 11 13 +37 27 00'),\n",
    "             ('P Cyg','20 17 47 +38 01 59'),\n",
    "             ('Berkeley 86','20 20 12 +38 41 24'),\n",
    "             ('IC 5070','20 51 00 +44 22 00'),\n",
    "             ('IC 1396 A','21 36 35 +57 30 36'),\n",
    "             ('IC 1396 N','21 40 42 +58 16 06'),\n",
    "             ('NGC 7129','21 42 56 +66 06 12'),\n",
    "             ('IC 5146','21 53 29 +47 16 01'),\n",
    "             ('Gaia19fct','07 09 21 -10 29 35')\n",
    "            ],\n",
    "    description='Target:',\n",
    ")\n",
    "display(target_sel)"
   ]
  },
  {
   "cell_type": "code",
   "execution_count": 5,
   "metadata": {},
   "outputs": [],
   "source": [
    "c = SkyCoord(target_sel.value, unit=(u.hourangle, u.deg))\n",
    "coords=[c.ra.value,c.dec.value]\n",
    "radius=0.5\n",
    "radius2=0.3"
   ]
  },
  {
   "cell_type": "code",
   "execution_count": 16,
   "metadata": {},
   "outputs": [
    {
     "name": "stdout",
     "output_type": "stream",
     "text": [
      "querying DSS2 image server for  NGC 1333  around coords: 03h29m02s +31d20m54s\n"
     ]
    }
   ],
   "source": [
    "#query DSS2 IR image server\n",
    "print('querying DSS2 image server for ',target_sel.label,' around coords:',c.to_string('hmsdms'))\n",
    "img = SkyView.get_images(position=c,survey=['DSS2 IR'],coordinates='J2000',width=1*u.degree,height=1*u.degree)\n",
    "b = img[0][0]"
   ]
  },
  {
   "cell_type": "code",
   "execution_count": 19,
   "metadata": {},
   "outputs": [
    {
     "data": {
      "application/vnd.jupyter.widget-view+json": {
       "model_id": "0cb9254a00d3441b9326246f5690407b",
       "version_major": 2,
       "version_minor": 0
      },
      "text/plain": [
       "interactive(children=(FloatSlider(value=0.5, continuous_update=False, description='Query circle radius [pc]:',…"
      ]
     },
     "metadata": {},
     "output_type": "display_data"
    },
    {
     "data": {
      "text/plain": [
       "<function __main__.view_image(rad_sel=0.5, rad2_sel=0.25, ra_sel=52.25833333333333, dec_sel=31.348333333333333)>"
      ]
     },
     "execution_count": 19,
     "metadata": {},
     "output_type": "execute_result"
    }
   ],
   "source": [
    "#display image and make selections for position of Gaia query and cluster subset\n",
    "def view_image(rad_sel=0.5,rad2_sel=0.25,ra_sel=c.ra.value,dec_sel=c.dec.value):\n",
    "    global radius, radius2, coords\n",
    "    radius=rad_sel\n",
    "    radius2=rad2_sel\n",
    "    fig, ax = subplots(figsize=(7,7))\n",
    "    ax.imshow(b.data,cmap='gray',vmin=1e3, vmax=1.5e4,\n",
    "              extent=[b.header['CRVAL1']-(b.header['NAXIS1']-b.header['CRPIX1'])*b.header['CDELT1'],\n",
    "                                                               b.header['CRVAL1']+(b.header['NAXIS1']-b.header['CRPIX1'])*b.header['CDELT1'],\n",
    "                                                               b.header['CRVAL2']+(b.header['NAXIS2']-b.header['CRPIX2'])*b.header['CDELT2'],\n",
    "                                                               b.header['CRVAL2']-(b.header['NAXIS2']-b.header['CRPIX2'])*b.header['CDELT2']])\n",
    "    fig.gca().invert_yaxis()\n",
    "    circle = Circle((c.ra.deg,c.dec.deg),rad_sel,color='white',fill=False,linewidth=3)\n",
    "    circle2 = Circle((ra_sel,dec_sel),rad2_sel,color='red',fill=False,linewidth=3)\n",
    "    fig.gca().add_artist(circle)\n",
    "    fig.gca().add_artist(circle2)\n",
    "    ax.set_xlabel('RA [deg]')\n",
    "    ax.set_ylabel('Dec [deg]')\n",
    "    tight_layout()\n",
    "    show()\n",
    "    coords=[ra_sel,dec_sel]\n",
    "\n",
    "\n",
    "interact(view_image,rad_sel=widget.FloatSlider(value=0.5,min=0.1,max=0.6,step=0.05,description='Query circle radius [pc]:',\n",
    "                            layout={'width': '600px'},continuous_update=False,style = {'description_width': 'initial'}),\n",
    "        rad2_sel=widget.FloatSlider(value=0.25,min=0.1,max=0.6,step=0.05,description='Cluster selection radius [pc]:',\n",
    "                            layout={'width': '600px'},continuous_update=False,style = {'description_width': 'initial'}),\n",
    "        ra_sel=widget.FloatSlider(value=c.ra.value,min=c.ra.value-0.5,max=c.ra.value+0.5,step=0.01,description='Cluster selection RA [deg]:',\n",
    "                            layout={'width': '600px'},continuous_update=False,style = {'description_width': 'initial'}),\n",
    "        dec_sel=widget.FloatSlider(value=c.dec.value,min=c.dec.value-0.5,max=c.dec.value+0.5,step=0.01,description='Cluster selection Dec [deg]:',\n",
    "                            layout={'width': '600px'},continuous_update=False,style = {'description_width': 'initial'}))"
   ]
  },
  {
   "cell_type": "code",
   "execution_count": null,
   "metadata": {},
   "outputs": [],
   "source": [
    "#query Gaia catalogue\n",
    "print('querying Gaia catalogue for ',target_sel.label,' around coords:',c.to_string('hmsdms'), 'with radius ',radius,' deg')\n",
    "\n",
    "rad = u.Quantity(radius, u.deg)\n",
    "\n",
    "MAIN_GAIA_TABLE = \"gaiaedr3.gaia_source\" # Select early Data Release 3\n",
    "#MAIN_GAIA_TABLE = \"gaiadr2.gaia_source\"  # Reselect Data Release 2, default\n",
    "Gaia.ROW_LIMIT=-1\n",
    "\n",
    "j = Gaia.cone_search_async(c, rad,columns=[],table_name=MAIN_GAIA_TABLE)\n",
    "\n",
    "r = j.get_results()\n",
    "r"
   ]
  },
  {
   "cell_type": "code",
   "execution_count": null,
   "metadata": {},
   "outputs": [],
   "source": [
    "#determine separation from cluster centre reference coords\n",
    "cat=SkyCoord(r['ra'],r['dec'])\n",
    "ref=SkyCoord(coords[0]*u.deg,coords[1]*u.deg)\n",
    "sep = cat.separation(ref)\n",
    "sep_ref=pd.Series((sep),name='sep_ref')\n",
    "print('selecting from Gaia catalogue around ref coords:',np.round(coords,2), 'with radius ',radius2,' deg')\n",
    "cluster_table_wide=r.to_pandas()\n",
    "cluster_table_wide.parallax=cluster_table_wide.parallax-0.021 #Parallax zero point off-set for eDR3\n",
    "cluster_table_wide=pd.concat([cluster_table_wide,sep_ref],axis=1)\n",
    "#intial filtering of parallax with min G mag and colour selections\n",
    "pzero=0.3 #ignore <0.3 parallax\n",
    "perr=5 #set min parallax error\n",
    "g_min=18\n",
    "cluster_table_wide=cluster_table_wide.query(f'parallax > {pzero} and parallax_error < {perr} and phot_g_mean_mag < {g_min} and bp_g > -0.2 and g_rp < 2.0')\n",
    "distance_eDR3=pd.Series((1/cluster_table_wide.parallax*10e2),name='distance_eDR3')\n",
    "cluster_table_wide=pd.concat([cluster_table_wide,distance_eDR3],axis=1) #add distance column to each object\n",
    "#calculate absolute G band magnitudes using distances\n",
    "abs_phot_g_mean_mag_eDR3=pd.Series(cluster_table_wide['phot_g_mean_mag']-5*np.log10(cluster_table_wide['distance_eDR3']/10),name='abs_phot_g_mean_mag_eDR3')\n",
    "cluster_table_wide=pd.concat([cluster_table_wide,abs_phot_g_mean_mag_eDR3],axis=1)\n",
    "\n",
    "#select all stars within reference radius, \n",
    "\n",
    "cluster_table_all=cluster_table_wide.query(f'sep_ref < {radius2}')\n",
    "\n",
    "parallax=np.median(cluster_table_all['parallax'])\n",
    "print('median parallax of position selected region:',np.round(parallax,3),' mas')\n",
    "print('median distane to position selected region:',np.round(1/parallax*1000,3),' pc')\n",
    "dist=1/parallax*1000\n",
    "\n",
    "#select main sequence stars from entire region\n",
    "cluster_table_ms=cluster_table_wide.query(f'parallax > 2')"
   ]
  },
  {
   "cell_type": "markdown",
   "metadata": {},
   "source": [
    "#### Plot CMD for entire region"
   ]
  },
  {
   "cell_type": "code",
   "execution_count": null,
   "metadata": {},
   "outputs": [],
   "source": [
    "fig1, ax1 = subplots(1,1)\n",
    "ax1.plot(cluster_table_wide['bp_rp'],cluster_table_wide['abs_phot_g_mean_mag_eDR3'],'k.',label='all query',markersize=0.5)\n",
    "ax1.plot(cluster_table_all['bp_rp'],cluster_table_all['abs_phot_g_mean_mag_eDR3'],'r.',label='cluster position and magnitude query',markersize=5)\n",
    "ax1.set_xlim(min(cluster_table_all['bp_rp'])-0.5,max(cluster_table_all['bp_rp'])+0.5)\n",
    "ax1.set_ylim(max(cluster_table_all['abs_phot_g_mean_mag_eDR3'])+1,min(cluster_table_all['abs_phot_g_mean_mag_eDR3'])-1)\n",
    "ax1.legend()\n",
    "ax1.set_xlabel('BP-RP [mag]')\n",
    "ax1.set_ylabel('G [mag]')\n",
    "show()"
   ]
  },
  {
   "cell_type": "markdown",
   "metadata": {},
   "source": [
    "#### Plot histogram of parallaxes and select window for cluster parallax"
   ]
  },
  {
   "cell_type": "code",
   "execution_count": null,
   "metadata": {},
   "outputs": [],
   "source": [
    "def sel_par_range(drange=[0,2000],wbins=50,log=False):\n",
    "    global cluster_table_par\n",
    "    cluster_table_par=cluster_table_all.query(f'distance_eDR3 > {drange[0]} and distance_eDR3 < {drange[1]}')\n",
    "    figure()\n",
    "    data=cluster_table_all['distance_eDR3'][cluster_table_all['distance_eDR3']<2000]\n",
    "    w = wbins\n",
    "    n = math.ceil((max(data) - min(data))/w)\n",
    "    hist(data,bins=n,label='position query',log=log,color='c')\n",
    "    data2=cluster_table_par['distance_eDR3'][cluster_table_par['distance_eDR3']<2000]\n",
    "    n2 = math.ceil((max(data2) - min(data2))/w)\n",
    "    hist(data2,bins=n2,label='cluster parallax selection',log=log,color='r')\n",
    "    xlabel('distance [pc]')\n",
    "    ylabel('count')\n",
    "    legend()\n",
    "    show()\n",
    "    \n",
    "interact(sel_par_range, drange=widget.FloatRangeSlider(value=[0,2000],min=0,max=2000,step=1,description='Distance range [pc]:',\n",
    "                                    readout_format='.0f',layout={'width': '600px'},style = {'description_width': 'initial'},\n",
    "                                    continuous_update=False),\n",
    "        wbins=widget.FloatSlider(value=50,min=10,max=100,step=1,description='bin width [pc]:',continuous_update=False,style = {'description_width': 'initial'}),\n",
    "        log=widget.Checkbox(value=False,description='use log scale for count?'))\n"
   ]
  },
  {
   "cell_type": "markdown",
   "metadata": {},
   "source": [
    "#### Plot CMD with parallax selection highlighted"
   ]
  },
  {
   "cell_type": "code",
   "execution_count": null,
   "metadata": {},
   "outputs": [],
   "source": [
    "fig1, ax1 = subplots(1,1)\n",
    "ax1.plot(cluster_table_all['bp_rp'],cluster_table_all['abs_phot_g_mean_mag_eDR3'],'c.',label='position selection')\n",
    "ax1.plot(cluster_table_par['bp_rp'],cluster_table_par['abs_phot_g_mean_mag_eDR3'],'r.',label='parallax selection')\n",
    "ax1.set_xlim(min(cluster_table_all['bp_rp'])-0.5,max(cluster_table_all['bp_rp'])+0.5)\n",
    "ax1.set_ylim(max(cluster_table_all['abs_phot_g_mean_mag_eDR3'])+1,min(cluster_table_all['abs_phot_g_mean_mag_eDR3'])-1)\n",
    "ax1.legend()\n",
    "ax1.set_xlabel('BP-RP [mag]')\n",
    "ax1.set_ylabel('G [mag]')\n",
    "show()"
   ]
  },
  {
   "cell_type": "markdown",
   "metadata": {},
   "source": [
    "#### Plot proper motions with parallax selection highlighted"
   ]
  },
  {
   "cell_type": "code",
   "execution_count": null,
   "metadata": {},
   "outputs": [],
   "source": [
    "fig3, ax3 = subplots(1,1)\n",
    "#ax3.plot(cluster_table_all['pmra'],cluster_table_all['pmdec'],'g.',label='all query')\n",
    "#ax3.plot(cluster_table_par['pmra'],cluster_table_par['pmdec'],'r.',label='par  sel')\n",
    "errorbar(cluster_table_all['pmra'],cluster_table_all['pmdec'], \n",
    "         xerr=cluster_table_all['pmra_error'], yerr=cluster_table_all['pmdec_error'], fmt=\".\", color=\"c\",label='pos sel')\n",
    "errorbar(cluster_table_par['pmra'],cluster_table_par['pmdec'], \n",
    "         xerr=cluster_table_par['pmra_error'], yerr=cluster_table_par['pmdec_error'], fmt=\".\", color=\"r\",label='par sel')\n",
    "xlim(-30,30)\n",
    "ylim(-30,30)\n",
    "ax3.legend()\n",
    "ax3.set_xlabel('pmra [mas/yr]')\n",
    "ax3.set_ylabel('pmdec [mas/yr]')\n",
    "show()"
   ]
  },
  {
   "cell_type": "markdown",
   "metadata": {},
   "source": [
    "##### zoom in on the above plot to set limits for next plot"
   ]
  },
  {
   "cell_type": "code",
   "execution_count": null,
   "metadata": {},
   "outputs": [],
   "source": [
    "from scipy.stats import kde\n",
    "\n",
    "pmdec_min, pmdec_max = ax3.get_ylim()\n",
    "pmra_min, pmra_max = ax3.get_xlim()\n",
    "\n",
    "cluster_table=cluster_table_par.query(f'pmra > {pmra_min} and pmra < {pmra_max} and pmdec > {pmdec_min} and pmdec < {pmdec_max}')\n",
    "\n",
    "# select data\n",
    "x = cluster_table['pmra']\n",
    "y = cluster_table['pmdec']\n",
    " \n",
    "# Evaluate a gaussian kde on a regular grid of nbins x nbins over data extents\n",
    "nbins=100\n",
    "k = kde.gaussian_kde([x,y])\n",
    "xi, yi = np.mgrid[x.min():x.max():nbins*1j, y.min():y.max():nbins*1j]\n",
    "zi = k(np.vstack([xi.flatten(), yi.flatten()]))\n",
    " \n",
    "# Make the plot\n",
    "fig5, ax5 = subplots(1,1)\n",
    "ax5.plot(cluster_table['pmra'],cluster_table['pmdec'],'k.',label='all query',alpha=0.1)\n",
    "ax5.pcolormesh(xi, yi, zi.reshape(xi.shape),norm=colors.PowerNorm(gamma=5),shading='auto',cmap='Spectral_r')\n",
    "\n",
    "ax5.set_xlabel('pmra [mas/yr]')\n",
    "ax5.set_ylabel('pmdec [mas/yr]')\n",
    "show()"
   ]
  },
  {
   "cell_type": "markdown",
   "metadata": {},
   "source": [
    "##### zoom in again on the above KDE plot to set limits for final selection"
   ]
  },
  {
   "cell_type": "markdown",
   "metadata": {},
   "source": [
    "#### Plot CMD with parallax and proper motion selections"
   ]
  },
  {
   "cell_type": "code",
   "execution_count": null,
   "metadata": {},
   "outputs": [],
   "source": [
    "pmdec_min, pmdec_max = ax5.get_ylim()\n",
    "pmra_min, pmra_max = ax5.get_xlim()\n",
    "cluster_table=cluster_table_par.query(f'pmra > {pmra_min} and pmra < {pmra_max} and pmdec > {pmdec_min} and pmdec < {pmdec_max}')\n",
    "\n",
    "\n",
    "fig1, ax1 = subplots(1,1)\n",
    "ax1.plot(cluster_table_all['bp_rp'],cluster_table_all['abs_phot_g_mean_mag_eDR3'],'c.',label='position selection')\n",
    "ax1.plot(cluster_table['bp_rp'],cluster_table['abs_phot_g_mean_mag_eDR3'],'r.',label='cluster parallax and pm selection')\n",
    "ax1.set_xlim(min(cluster_table_all['bp_rp'])-0.5,max(cluster_table_all['bp_rp'])+0.5)\n",
    "ax1.set_ylim(max(cluster_table_all['abs_phot_g_mean_mag_eDR3'])+1,min(cluster_table_all['abs_phot_g_mean_mag_eDR3'])-1)\n",
    "ax1.legend()\n",
    "ax1.set_xlabel('BP-RP [mag]')\n",
    "ax1.set_ylabel('G [mag]')\n",
    "show()"
   ]
  },
  {
   "cell_type": "code",
   "execution_count": null,
   "metadata": {},
   "outputs": [],
   "source": [
    "parallax=np.median(cluster_table['parallax'])\n",
    "print('median parallax of selected cluster members:',np.round(parallax,3),' mas')\n",
    "print('median distane to selected cluster members:',np.round(1/parallax*10e2,3),' pc')\n",
    "dist=1/parallax*10e2"
   ]
  },
  {
   "cell_type": "markdown",
   "metadata": {},
   "source": [
    "#### Overplot isochrones"
   ]
  },
  {
   "cell_type": "code",
   "execution_count": null,
   "metadata": {},
   "outputs": [],
   "source": [
    "print('Ctrl/Cmd + Click to select isochrones to plot')\n",
    "def plot_cmd(iso_sel=['100myr','10myr','1myr']):\n",
    "    fig2, ax2 = subplots(1,1)\n",
    "    ax2.plot(cluster_table['bp_rp'],cluster_table['abs_phot_g_mean_mag_eDR3'],'r.',label='Cluster',markersize=10)\n",
    "    ax2.plot(cluster_table_ms['bp_rp'],cluster_table_ms['abs_phot_g_mean_mag_eDR3'],'k.',label='Main Sequence',markersize=1)\n",
    "\n",
    "    for iso in iso_sel:\n",
    "        ax2.plot(iso_list[iso]['G_BPmag']-iso_list[iso]['G_RPmag'],iso_list[iso]['Gmag'],'-',label=iso)\n",
    "\n",
    "    ax2.set_xlim(min(cluster_table['bp_rp'])-0.5,max(cluster_table['bp_rp'])+0.5)\n",
    "    ax2.set_ylim(max(cluster_table['abs_phot_g_mean_mag_eDR3'])+1,min(cluster_table['abs_phot_g_mean_mag_eDR3'])-1)\n",
    "    ax2.legend()\n",
    "    ax2.set_xlabel('BP-RP [mag]')\n",
    "    ax2.set_ylabel('G [mag]')\n",
    "    show()\n",
    "\n",
    "interact(plot_cmd,iso_sel=widget.SelectMultiple(options=iso_list.keys(),value=['100myr','10myr','1myr'],\n",
    "    description='Select Isochrones to plot:',style = {'description_width': 'initial'},rows=len(iso_list.keys())))"
   ]
  },
  {
   "cell_type": "markdown",
   "metadata": {},
   "source": [
    "#### Position plot of identified cluster"
   ]
  },
  {
   "cell_type": "code",
   "execution_count": null,
   "metadata": {},
   "outputs": [],
   "source": [
    "fig1, ax1 = subplots(1,1)\n",
    "ax1.plot(cluster_table_wide['ra'],cluster_table_wide['dec'],'k.',label='all query',markersize=1)\n",
    "ax1.plot(cluster_table['ra'],cluster_table['dec'],'r.',label='cluster pos, par and pm selection')\n",
    "ax1.legend()\n",
    "ax1.invert_xaxis()\n",
    "ax1.set_ylabel('Dec [deg]')\n",
    "ax1.set_xlabel('RA [deg]')\n",
    "show()"
   ]
  },
  {
   "cell_type": "markdown",
   "metadata": {},
   "source": [
    "#### Display Gaia catalogue data for selected cluster members"
   ]
  },
  {
   "cell_type": "code",
   "execution_count": null,
   "metadata": {},
   "outputs": [],
   "source": [
    "pd.set_option('display.max_columns', None)\n",
    "pd.set_option('display.max_rows', None)\n",
    "print('You selected ',len(cluster_table),' potential young stars.')\n",
    "cluster_table[['ra','dec','parallax','pmra','pmdec','phot_g_mean_mag','bp_rp']]"
   ]
  },
  {
   "cell_type": "code",
   "execution_count": null,
   "metadata": {},
   "outputs": [],
   "source": [
    "close('all')"
   ]
  }
 ],
 "metadata": {
  "kernelspec": {
   "display_name": "Python 3 (ipykernel)",
   "language": "python",
   "name": "python3"
  },
  "language_info": {
   "codemirror_mode": {
    "name": "ipython",
    "version": 3
   },
   "file_extension": ".py",
   "mimetype": "text/x-python",
   "name": "python",
   "nbconvert_exporter": "python",
   "pygments_lexer": "ipython3",
   "version": "3.10.8"
  }
 },
 "nbformat": 4,
 "nbformat_minor": 4
}
